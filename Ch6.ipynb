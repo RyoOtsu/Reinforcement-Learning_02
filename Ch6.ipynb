{
 "cells": [
  {
   "cell_type": "code",
   "execution_count": 1,
   "metadata": {},
   "outputs": [],
   "source": [
    "# TD法"
   ]
  },
  {
   "cell_type": "code",
   "execution_count": 11,
   "metadata": {},
   "outputs": [],
   "source": [
    "import numpy as np\n",
    "from collections import defaultdict, deque\n",
    "from common import GridWorld\n",
    "from utils import greedy_probs"
   ]
  },
  {
   "cell_type": "code",
   "execution_count": 2,
   "metadata": {},
   "outputs": [],
   "source": [
    "### 6.1.2 TD法の実装"
   ]
  },
  {
   "cell_type": "code",
   "execution_count": 6,
   "metadata": {},
   "outputs": [],
   "source": [
    "class TdAgent:\n",
    "    def __init__(self):\n",
    "        self.gamma = 0.9\n",
    "        self.alpha = 0.01\n",
    "        self.action_size = 4\n",
    "        \n",
    "        random_actions = {0:0.25, 1:0.25, 2:0.25, 3:0.25}\n",
    "        self.pi = defaultdict(lambda: random_actions)\n",
    "        self.V = defaultdict(lambda: 0)\n",
    "        \n",
    "    def get_action(self, state):\n",
    "        action_probs = self.pi[state]\n",
    "        actions = list(action_probs.keys())\n",
    "        probs = list(action_probs.values())\n",
    "        return np.random.choice(actions, p=probs)\n",
    "    \n",
    "    def eval(self, state, reward, next_state, done):\n",
    "        next_V = 0 if done else self.V[next_state]\n",
    "        target = reward + self.gamma*next_V\n",
    "        \n",
    "        self.V[state] += (target - self.V[state])*self.alpha"
   ]
  },
  {
   "cell_type": "code",
   "execution_count": 9,
   "metadata": {},
   "outputs": [
    {
     "data": {
      "text/plain": [
       "defaultdict(<function __main__.TdAgent.__init__.<locals>.<lambda>()>,\n",
       "            {(2, 1): -0.23948985631315103,\n",
       "             (2, 0): -0.09859375674663563,\n",
       "             (2, 2): -0.46631482821763454,\n",
       "             (1, 2): -0.5450153272896253,\n",
       "             (0, 2): 0.11373250550849406,\n",
       "             (0, 1): 0.0761719787120954,\n",
       "             (2, 3): -0.8663981775657867,\n",
       "             (1, 3): -0.5071596521589833,\n",
       "             (1, 0): -0.030045892344131284,\n",
       "             (0, 0): 0.029374575131925366})"
      ]
     },
     "execution_count": 9,
     "metadata": {},
     "output_type": "execute_result"
    }
   ],
   "source": [
    "env = GridWorld()\n",
    "agent = TdAgent()\n",
    "\n",
    "episodes = 1000\n",
    "for episode in range(episodes):\n",
    "    state = env.reset()\n",
    "    \n",
    "    while True:\n",
    "        action = agent.get_action(state)\n",
    "        next_state, reward, done = env.step(action)\n",
    "        \n",
    "        agent.eval(state, reward, next_state, done)\n",
    "        if done:\n",
    "            break\n",
    "        state = next_state\n",
    "agent.V"
   ]
  },
  {
   "cell_type": "code",
   "execution_count": 10,
   "metadata": {},
   "outputs": [],
   "source": [
    "### 6.2.2 SARSAの実装"
   ]
  },
  {
   "cell_type": "code",
   "execution_count": 12,
   "metadata": {},
   "outputs": [],
   "source": [
    "class SarsaAgent:\n",
    "    def __init__(self):\n",
    "        self.gamma = 0.9\n",
    "        self.alpha = 0.8\n",
    "        self.epsilon = 0.1\n",
    "        self.action_size = 4\n",
    "        \n",
    "        random_actions = {0:0.25, 1:0.25, 2:0.25, 3:0.25}\n",
    "        self.pi = defaultdict(lambda: random_actions)\n",
    "        self.Q = defaultdict(lambda: 0)\n",
    "        self.memory = deque(maxlen=2)\n",
    "        \n",
    "    def get_action(self, state):\n",
    "        action_probs = self.pi[state]\n",
    "        actions = list(action_probs.keys())\n",
    "        probs = list(action_probs.values())\n",
    "        return np.random.choice(actions, p=probs)\n",
    "    \n",
    "    def reset(self):\n",
    "        self.memory.clear()\n",
    "        \n",
    "    def update(self, state, action, reward, done):\n",
    "        self.memory.append((state, action ,reward, done))\n",
    "        if len(self.memory)<2:\n",
    "            return\n",
    "        \n",
    "        state, action, reward, done = self.memory[0]\n",
    "        next_state, next_action, _, _ = self.memory[1]\n",
    "        \n",
    "        next_q = 0 if done else self.Q[next_state, next_action]\n",
    "        \n",
    "        target = reward + self.gamma*next_q\n",
    "        self.Q[state, action] += (target - self.Q[state, action])*self.alpha\n",
    "        \n",
    "        self.pi[state] = greedy_probs(self.Q, state, self.epsilon)"
   ]
  },
  {
   "cell_type": "code",
   "execution_count": 14,
   "metadata": {},
   "outputs": [
    {
     "data": {
      "text/plain": [
       "defaultdict(<function __main__.SarsaAgent.__init__.<locals>.<lambda>()>,\n",
       "            {((2, 0), 2): 0.3706059974348025,\n",
       "             ((2, 0), 1): 0.343204195001758,\n",
       "             ((2, 0), 0): 0.42686789833120464,\n",
       "             ((2, 0), 3): 0.43701584540100236,\n",
       "             ((2, 1), 1): 0.3085119551596592,\n",
       "             ((2, 1), 0): 0.2956546353901475,\n",
       "             ((2, 1), 2): 0.4165342877496803,\n",
       "             ((2, 1), 3): 0.30347771559866743,\n",
       "             ((2, 2), 1): 0.2726559029779189,\n",
       "             ((2, 2), 0): 0.08999941634508046,\n",
       "             ((2, 2), 2): 0.30341040788930557,\n",
       "             ((2, 2), 3): 0.3054725294207578,\n",
       "             ((1, 2), 2): 0.7748900926317673,\n",
       "             ((1, 2), 0): 0.8999999999997971,\n",
       "             ((1, 2), 1): 0.6469431526082596,\n",
       "             ((1, 2), 3): -0.10000017653760002,\n",
       "             ((0, 2), 2): 0.6341651225695195,\n",
       "             ((0, 1), 0): 0.5483945136068872,\n",
       "             ((0, 2), 0): 0.899880560639984,\n",
       "             ((0, 2), 1): 0.617563575782853,\n",
       "             ((0, 2), 3): 1.0,\n",
       "             ((0, 1), 1): 0.769324540693766,\n",
       "             ((0, 1), 2): 0.4444730474776941,\n",
       "             ((0, 1), 3): 0.9,\n",
       "             ((0, 0), 1): 0.43316055236684753,\n",
       "             ((1, 0), 1): 0.4374895462636512,\n",
       "             ((0, 0), 0): 0.5363020981146613,\n",
       "             ((0, 0), 2): 0.6915642833629716,\n",
       "             ((0, 0), 3): 0.8099972962348352,\n",
       "             ((1, 0), 0): 0.6721193040563025,\n",
       "             ((1, 0), 2): 0.329811595911908,\n",
       "             ((1, 0), 3): 0.4064648608982038,\n",
       "             ((2, 3), 3): -0.11519999999999997,\n",
       "             ((2, 3), 2): 0.20334484707476522,\n",
       "             ((2, 3), 0): -0.96,\n",
       "             ((2, 3), 1): 0.046705785411383705,\n",
       "             ((1, 3), 1): 0.0,\n",
       "             ((1, 3), 0): 0.999999995904,\n",
       "             ((1, 3), 2): 0.0,\n",
       "             ((1, 3), 3): 0})"
      ]
     },
     "execution_count": 14,
     "metadata": {},
     "output_type": "execute_result"
    }
   ],
   "source": [
    "env = GridWorld()\n",
    "agent = SarsaAgent()\n",
    "\n",
    "episodes = 10000\n",
    "for eisode in range(episodes):\n",
    "    state = env.reset()\n",
    "    agent.reset()\n",
    "    \n",
    "    while True:\n",
    "        action = agent.get_action(state)\n",
    "        next_state, reward, done = env.step(action)\n",
    "        \n",
    "        agent.update(state, action, reward, done)\n",
    "        \n",
    "        if done:\n",
    "            agent.update(state, None, None, None)\n",
    "            break\n",
    "        state = next_state\n",
    "agent.Q"
   ]
  },
  {
   "cell_type": "code",
   "execution_count": null,
   "metadata": {},
   "outputs": [],
   "source": []
  }
 ],
 "metadata": {
  "kernelspec": {
   "display_name": "base",
   "language": "python",
   "name": "python3"
  },
  "language_info": {
   "codemirror_mode": {
    "name": "ipython",
    "version": 3
   },
   "file_extension": ".py",
   "mimetype": "text/x-python",
   "name": "python",
   "nbconvert_exporter": "python",
   "pygments_lexer": "ipython3",
   "version": "3.9.13"
  },
  "orig_nbformat": 4
 },
 "nbformat": 4,
 "nbformat_minor": 2
}
